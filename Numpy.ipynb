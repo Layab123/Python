{
  "nbformat": 4,
  "nbformat_minor": 0,
  "metadata": {
    "colab": {
      "provenance": [],
      "authorship_tag": "ABX9TyO7WrJXIlUM+6Hf0MdzbZGj",
      "include_colab_link": true
    },
    "kernelspec": {
      "name": "python3",
      "display_name": "Python 3"
    },
    "language_info": {
      "name": "python"
    }
  },
  "cells": [
    {
      "cell_type": "markdown",
      "metadata": {
        "id": "view-in-github",
        "colab_type": "text"
      },
      "source": [
        "<a href=\"https://colab.research.google.com/github/Layab123/Python/blob/main/Numpy.ipynb\" target=\"_parent\"><img src=\"https://colab.research.google.com/assets/colab-badge.svg\" alt=\"Open In Colab\"/></a>"
      ]
    },
    {
      "cell_type": "markdown",
      "source": [
        "## 0_D Array"
      ],
      "metadata": {
        "id": "CGs3NwPC6K_K"
      }
    },
    {
      "cell_type": "code",
      "execution_count": null,
      "metadata": {
        "colab": {
          "base_uri": "https://localhost:8080/"
        },
        "id": "Z4sySO986Fzz",
        "outputId": "bb2da194-f576-447b-be87-7a517caf7d7d"
      },
      "outputs": [
        {
          "output_type": "stream",
          "name": "stdout",
          "text": [
            "25\n",
            "type of array: <class 'numpy.ndarray'>\n"
          ]
        }
      ],
      "source": [
        "import numpy as np\n",
        "arr=np.array(25)\n",
        "print(arr)\n",
        "print(\"type of array:\", type(arr))\n"
      ]
    },
    {
      "cell_type": "markdown",
      "source": [
        "## 1_D Array"
      ],
      "metadata": {
        "id": "8yPf02Yv7XNA"
      }
    },
    {
      "cell_type": "code",
      "source": [
        "import numpy as np\n",
        "\n",
        "arr_1d=np.array([1,4,10])\n",
        "print(arr_1d)"
      ],
      "metadata": {
        "colab": {
          "base_uri": "https://localhost:8080/"
        },
        "id": "X9kw1Prb7VqP",
        "outputId": "5e56cb7d-65a0-43c0-8aa0-1d718cc2ddae"
      },
      "execution_count": null,
      "outputs": [
        {
          "output_type": "stream",
          "name": "stdout",
          "text": [
            "[ 1  4 10]\n"
          ]
        }
      ]
    },
    {
      "cell_type": "markdown",
      "source": [
        "## 2_D Array"
      ],
      "metadata": {
        "id": "Q_JacFu98I1d"
      }
    },
    {
      "cell_type": "code",
      "source": [
        "import numpy as np\n",
        "arr_2d=np.array([[1,5,3,9],[8,7,5,3]])\n",
        "print(\"tow Dimesional Array:\")\n",
        "print(arr_2d)\n",
        "print()\n",
        "print(type(arr_2d))\n",
        "print()\n",
        "print(\"type of dimensional:\",arr_2d.ndim)"
      ],
      "metadata": {
        "colab": {
          "base_uri": "https://localhost:8080/"
        },
        "id": "A0trJIgo76dG",
        "outputId": "eea0436b-f3f4-4acf-f8aa-bd3684dc1676"
      },
      "execution_count": null,
      "outputs": [
        {
          "output_type": "stream",
          "name": "stdout",
          "text": [
            "tow Dimesional Array:\n",
            "[[1 5 3 9]\n",
            " [8 7 5 3]]\n",
            "\n",
            "<class 'numpy.ndarray'>\n",
            "\n",
            "type of dimensional: 2\n"
          ]
        }
      ]
    },
    {
      "cell_type": "markdown",
      "source": [
        "## 3_D Array"
      ],
      "metadata": {
        "id": "hPRXmrnT85vf"
      }
    },
    {
      "cell_type": "code",
      "source": [
        "import numpy as np\n",
        "arr_3d=np.array([[[1,4,23,54],[23,45,98,12]]])\n",
        "print(\"value of Numpy:\",arr_3d)\n",
        "print()\n",
        "print(type(arr_3d))\n",
        "print()\n",
        "print(\"number of dimensional array\",arr_3d.ndim)"
      ],
      "metadata": {
        "colab": {
          "base_uri": "https://localhost:8080/"
        },
        "id": "QjT3qJAq85KH",
        "outputId": "5203f4df-452c-4827-b71a-370eb4eea087"
      },
      "execution_count": null,
      "outputs": [
        {
          "output_type": "stream",
          "name": "stdout",
          "text": [
            "value of Numpy: [[[ 1  4 23 54]\n",
            "  [23 45 98 12]]]\n",
            "\n",
            "<class 'numpy.ndarray'>\n",
            "\n",
            "number of dimensional array 3\n"
          ]
        }
      ]
    },
    {
      "cell_type": "markdown",
      "source": [
        "## Higher dimensional Array"
      ],
      "metadata": {
        "id": "Dp5L-aVE_oDR"
      }
    },
    {
      "cell_type": "code",
      "source": [
        "import numpy as np\n",
        "arr=np.array([123,45,6], ndmin=4)\n",
        "print(arr)"
      ],
      "metadata": {
        "colab": {
          "base_uri": "https://localhost:8080/"
        },
        "id": "dx1cDy5c-RXV",
        "outputId": "515da48d-00cf-4776-d6d2-881765a7fde3"
      },
      "execution_count": null,
      "outputs": [
        {
          "output_type": "stream",
          "name": "stdout",
          "text": [
            "[[[[123  45   6]]]]\n"
          ]
        }
      ]
    },
    {
      "cell_type": "markdown",
      "source": [
        "## Higher dimensional array with 2_D array"
      ],
      "metadata": {
        "id": "wLRYD5GJAaRn"
      }
    },
    {
      "cell_type": "code",
      "source": [
        "import numpy as np\n",
        "arr=np.array([[2,3,4]],ndmin=32)\n",
        "print(arr)"
      ],
      "metadata": {
        "colab": {
          "base_uri": "https://localhost:8080/"
        },
        "id": "DYuUy1Cq_y_7",
        "outputId": "7a62b202-2625-4aa9-89e4-f000b54a5638"
      },
      "execution_count": null,
      "outputs": [
        {
          "output_type": "stream",
          "name": "stdout",
          "text": [
            "[[[[[[[[[[[[[[[[[[[[[[[[[[[[[[[[2 3 4]]]]]]]]]]]]]]]]]]]]]]]]]]]]]]]]\n"
          ]
        }
      ]
    },
    {
      "cell_type": "markdown",
      "source": [
        "##higher_D Array with 0_D Array"
      ],
      "metadata": {
        "id": "m4tJzDNABoEg"
      }
    },
    {
      "cell_type": "code",
      "source": [
        "import numpy as np\n",
        "arr=np.array(45,ndmin=2)\n",
        "print(arr)"
      ],
      "metadata": {
        "colab": {
          "base_uri": "https://localhost:8080/"
        },
        "id": "vw57On29Ap5X",
        "outputId": "941b43a3-7c5c-4e90-ddbb-d4a4aaccb422"
      },
      "execution_count": null,
      "outputs": [
        {
          "output_type": "stream",
          "name": "stdout",
          "text": [
            "[[45]]\n"
          ]
        }
      ]
    },
    {
      "cell_type": "markdown",
      "source": [
        "##"
      ],
      "metadata": {
        "id": "Y2jRf3fjDWy8"
      }
    },
    {
      "cell_type": "code",
      "source": [
        "import numpy as np\n",
        "zero_d=np.array(24)\n",
        "one_d=np.array([3,5,7,8])\n",
        "tow_d=np.array([[12,4,6],[2,4,3]])\n",
        "three_d=np.array([[[3,4,6,7,],[5,9,7,2]]])\n",
        "higher_d=np.array([1,3,5],ndmin=4)\n",
        "print(\"class or type of ndarray:\")\n",
        "print(type(zero_d))\n",
        "print(type(one_d))\n",
        "print(type(tow_d))\n",
        "print(type(three_d))\n",
        "print(type(higher_d))\n",
        "print()\n",
        "print(\"Different type of Dimensional Array:\")\n",
        "print(\"type of dimensional:\",zero_d.ndim)\n",
        "print(\"type of dimensional:\",one_d.ndim)\n",
        "print(\"type of dimensional\",tow_d.ndim)\n",
        "print(\"type of dimensional\",three_d.ndim)\n",
        "\n",
        "print(\"number of dimensional array:\",higher_d.ndim)\n",
        "print()\n",
        "print(\"print the Array:\")\n",
        "print()\n",
        "print(\"0_D Array:\",zero_d)\n",
        "print()\n",
        "print(\"1_D Array:\",one_d)\n",
        "print()\n",
        "print(\"2-D Aray:\",tow_d)\n",
        "print()\n",
        "print(\"3_D Array:\",three_d)\n",
        "\n",
        "print()\n",
        "print(\"n_D Array:\",higher_d)"
      ],
      "metadata": {
        "colab": {
          "base_uri": "https://localhost:8080/"
        },
        "id": "ZcfkVxnjDWGf",
        "outputId": "427a54c7-06ba-44e6-884a-3398547fc790"
      },
      "execution_count": null,
      "outputs": [
        {
          "output_type": "stream",
          "name": "stdout",
          "text": [
            "class or type of ndarray:\n",
            "<class 'numpy.ndarray'>\n",
            "<class 'numpy.ndarray'>\n",
            "<class 'numpy.ndarray'>\n",
            "<class 'numpy.ndarray'>\n",
            "<class 'numpy.ndarray'>\n",
            "\n",
            "Different type of Dimensional Array:\n",
            "type of dimensional: 0\n",
            "type of dimensional: 1\n",
            "type of dimensional 2\n",
            "type of dimensional 3\n",
            "number of dimensional array: 4\n",
            "\n",
            "print the Array:\n",
            "\n",
            "0_D Array: 24\n",
            "\n",
            "1_D Array: [3 5 7 8]\n",
            "\n",
            "2-D Aray: [[12  4  6]\n",
            " [ 2  4  3]]\n",
            "\n",
            "3_D Array: [[[3 4 6 7]\n",
            "  [5 9 7 2]]]\n",
            "\n",
            "n_D Array: [[[[1 3 5]]]]\n"
          ]
        }
      ]
    }
  ]
}